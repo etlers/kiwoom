{
 "cells": [
  {
   "cell_type": "code",
   "execution_count": null,
   "metadata": {},
   "outputs": [],
   "source": [
    "import sys\n",
    "from PyQt5.QtWidgets import *\n",
    "from PyQt5.QtGui import *\n",
    "from PyQt5.QAxContainer import *\n",
    "\n",
    "class MyWindow(QMainWindow):\n",
    "    def __init__(self):\n",
    "        super().__init__()\n",
    "        self.setWindowTitle(\"PyStock\")\n",
    "        self.setGeometry(300, 300, 300, 150)\n",
    "\n",
    "        self.kiwoom = QAxWidget(\"KHOPENAPI.KHOpenAPICtrl.1\")\n",
    "        self.kiwoom.dynamicCall(\"CommConnect()\")\n",
    "\n",
    "        self.text_edit = QTextEdit(self)\n",
    "        self.text_edit.setGeometry(10, 60, 280, 80)\n",
    "        self.text_edit.setEnabled(False)\n",
    "\n",
    "        self.kiwoom.OnEventConnect.connect(self.event_connect)\n",
    "\n",
    "    def event_connect(self, err_code):\n",
    "        if err_code == 0:\n",
    "            self.text_edit.append(\"로그인 성공\")\n",
    "\n",
    "if __name__ == \"__main__\":\n",
    "    app = QApplication(sys.argv)\n",
    "    myWindow = MyWindow()\n",
    "    myWindow.show()\n",
    "    app.exec_()"
   ]
  },
  {
   "cell_type": "code",
   "execution_count": null,
   "metadata": {},
   "outputs": [],
   "source": []
  }
 ],
 "metadata": {
  "kernelspec": {
   "display_name": "Python 3",
   "language": "python",
   "name": "python3"
  },
  "language_info": {
   "codemirror_mode": {
    "name": "ipython",
    "version": 3
   },
   "file_extension": ".py",
   "mimetype": "text/x-python",
   "name": "python",
   "nbconvert_exporter": "python",
   "pygments_lexer": "ipython3",
   "version": "3.6.10"
  }
 },
 "nbformat": 4,
 "nbformat_minor": 4
}
